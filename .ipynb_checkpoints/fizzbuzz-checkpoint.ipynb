{
 "cells": [
  {
   "cell_type": "markdown",
   "id": "1e4fa907",
   "metadata": {},
   "source": [
    "#### WHAT IS FIZZBUZZ?\n",
    "FizzBuzz is a common coding task given during interviews that tasks candidates to write a solution that prints integers one-to-N, labeling any integers divisible by three as “Fizz,” integers divisible by five as “Buzz” and integers divisible by both three and five as “FizzBuzz.” Understanding how to solve it can help reinforce good coding practices."
   ]
  },
  {
   "cell_type": "code",
   "execution_count": 1,
   "id": "72455102",
   "metadata": {},
   "outputs": [
    {
     "name": "stdout",
     "output_type": "stream",
     "text": [
      "16\n",
      "1 2 Fizz 4 Buzz Fizz 7 8 Fizz Buzz 11 Fizz 13 14 FizzBuzz 16 "
     ]
    }
   ],
   "source": [
    "def fizz_buzz():\n",
    "    \n",
    "    n = int(input())\n",
    "    \n",
    "    for i in range(1, n+1):\n",
    "        \n",
    "        if i%3 == 0 and i%5 == 0:\n",
    "            print(\"FizzBuzz\", end=\" \")\n",
    "          \n",
    "        elif i%3 == 0:\n",
    "            print(\"Fizz\", end=\" \")\n",
    "            \n",
    "        elif i%5 == 0:\n",
    "            print(\"Buzz\", end=\" \")\n",
    "            \n",
    "        else:\n",
    "            print(i, end=\" \") \n",
    "\n",
    "fizz_buzz()"
   ]
  },
  {
   "cell_type": "code",
   "execution_count": null,
   "id": "3bbf4c84",
   "metadata": {},
   "outputs": [],
   "source": []
  }
 ],
 "metadata": {
  "kernelspec": {
   "display_name": "Python 3 (ipykernel)",
   "language": "python",
   "name": "python3"
  },
  "language_info": {
   "codemirror_mode": {
    "name": "ipython",
    "version": 3
   },
   "file_extension": ".py",
   "mimetype": "text/x-python",
   "name": "python",
   "nbconvert_exporter": "python",
   "pygments_lexer": "ipython3",
   "version": "3.9.13"
  }
 },
 "nbformat": 4,
 "nbformat_minor": 5
}

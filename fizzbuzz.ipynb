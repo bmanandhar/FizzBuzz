{
 "cells": [
  {
   "cell_type": "markdown",
   "id": "1e4fa907",
   "metadata": {},
   "source": [
    "#### WHAT IS FIZZBUZZ?\n",
    "FizzBuzz is a common coding task given during interviews that tasks candidates to write a solution that prints integers one-to-N, labeling any integers divisible by three as “Fizz,” integers divisible by five as “Buzz” and integers divisible by both three and five as “FizzBuzz.” Understanding how to solve it can help reinforce good coding practices."
   ]
  },
  {
   "cell_type": "code",
   "execution_count": null,
   "id": "72455102",
   "metadata": {},
   "outputs": [],
   "source": [
    "def fizz_buzz(n):\n",
    "    "
   ]
  }
 ],
 "metadata": {
  "kernelspec": {
   "display_name": "Python 3 (ipykernel)",
   "language": "python",
   "name": "python3"
  },
  "language_info": {
   "codemirror_mode": {
    "name": "ipython",
    "version": 3
   },
   "file_extension": ".py",
   "mimetype": "text/x-python",
   "name": "python",
   "nbconvert_exporter": "python",
   "pygments_lexer": "ipython3",
   "version": "3.9.13"
  }
 },
 "nbformat": 4,
 "nbformat_minor": 5
}
